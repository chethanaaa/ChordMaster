{
 "cells": [
  {
   "cell_type": "code",
   "execution_count": null,
   "metadata": {},
   "outputs": [],
   "source": [
    "def hand_detection_tests(b):\n",
    "    i = 1\n",
    "    plt.figure(1)\n",
    "    for filename in os.listdir('./pictures/'):\n",
    "        print(\"File found: \" + filename + \" - Processing...\")\n",
    "        start_time = time.time()\n",
    "        chord_image = Image(path='./pictures/' + filename)\n",
    "        rotated_image = rotate_neck_picture(chord_image)\n",
    "        cropped_image = crop_neck_picture(rotated_image)\n",
    "\n",
    "        skin = skin_detection(cropped_image.image)\n",
    "        refined_hand_region = locate_hand_region(skin)\n",
    "        hand = hand_detection(refined_hand_region)\n",
    "\n",
    "        plt.subplot(int(\"42\" + str(i)))\n",
    "        i += 1\n",
    "        plt.imshow(cv2.cvtColor(chord_image.image, cv2.COLOR_BGR2RGB))\n",
    "        plt.subplot(int(\"42\" + str(i)))\n",
    "        i += 1\n",
    "        plt.imshow(cv2.cvtColor(hand[b], cv2.COLOR_BGR2RGB))\n",
    "        print(\"Done - Time elapsed: %s seconds\" % round(time.time() - start_time, 2))\n",
    "\n",
    "    plt.show()\n",
    "\n",
    "if __name__ == \"__main__\":\n",
    "    print(\"What would you like to get? \\n\\t1 - Contours \\n\\t2 - Circular Hough transform\")\n",
    "    choice = input(\"[1/2] > \")\n",
    "    if choice == \"1\":\n",
    "        print(\"Detecting contours...\")\n",
    "        hand_detection_tests(0)\n",
    "    elif choice == \"2\":\n",
    "        print(\"Detecting circular Hough transform results...\")\n",
    "        hand_detection_tests(1)\n",
    "    else:\n",
    "        print(\"Command not defined - Aborted.\")\n"
   ]
  }
 ],
 "metadata": {
  "language_info": {
   "name": "python"
  }
 },
 "nbformat": 4,
 "nbformat_minor": 2
}
